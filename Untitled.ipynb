{
 "cells": [
  {
   "cell_type": "code",
   "execution_count": 2,
   "id": "7401335e",
   "metadata": {},
   "outputs": [
    {
     "name": "stdout",
     "output_type": "stream",
     "text": [
      "C:\\Users\\shiva\\Desktop\\isro\\new_env\\myenv\\Scripts\\python.exe\n",
      "C:\\Users\\shiva\\AppData\\Local\\Programs\\Python\\Python310\\python.exe\n",
      "C:\\Users\\shiva\\AppData\\Local\\Microsoft\\WindowsApps\\python.exe\n"
     ]
    }
   ],
   "source": [
    "!where python\n"
   ]
  },
  {
   "cell_type": "code",
   "execution_count": 7,
   "id": "2b142454",
   "metadata": {},
   "outputs": [
    {
     "name": "stdout",
     "output_type": "stream",
     "text": [
      "3.10.4 (tags/v3.10.4:9d38120, Mar 23 2022, 23:13:41) [MSC v.1929 64 bit (AMD64)]\n"
     ]
    }
   ],
   "source": [
    "import sys\n",
    "print(sys.version)"
   ]
  },
  {
   "cell_type": "code",
   "execution_count": 17,
   "id": "826065b0",
   "metadata": {},
   "outputs": [
    {
     "name": "stdout",
     "output_type": "stream",
     "text": [
      "Speak something...\n",
      "Sorry, I couldn't understand.\n",
      "Speak something...\n",
      "Sorry, I couldn't understand.\n",
      "Speak something...\n"
     ]
    },
    {
     "ename": "KeyboardInterrupt",
     "evalue": "",
     "output_type": "error",
     "traceback": [
      "\u001b[1;31m---------------------------------------------------------------------------\u001b[0m",
      "\u001b[1;31mKeyboardInterrupt\u001b[0m                         Traceback (most recent call last)",
      "Input \u001b[1;32mIn [17]\u001b[0m, in \u001b[0;36m<cell line: 51>\u001b[1;34m()\u001b[0m\n\u001b[0;32m     49\u001b[0m listbox\u001b[38;5;241m.\u001b[39mpack(fill\u001b[38;5;241m=\u001b[39mtk\u001b[38;5;241m.\u001b[39mBOTH, expand\u001b[38;5;241m=\u001b[39m\u001b[38;5;28;01mTrue\u001b[39;00m)\n\u001b[0;32m     51\u001b[0m \u001b[38;5;28;01mwhile\u001b[39;00m \u001b[38;5;28;01mTrue\u001b[39;00m:\n\u001b[1;32m---> 52\u001b[0m     query \u001b[38;5;241m=\u001b[39m \u001b[43mtranscribe_speech\u001b[49m\u001b[43m(\u001b[49m\u001b[43m)\u001b[49m\n\u001b[0;32m     53\u001b[0m     \u001b[38;5;28;01mif\u001b[39;00m query:\n\u001b[0;32m     54\u001b[0m         search_results \u001b[38;5;241m=\u001b[39m search_files_and_directories(query)\n",
      "Input \u001b[1;32mIn [17]\u001b[0m, in \u001b[0;36mtranscribe_speech\u001b[1;34m()\u001b[0m\n\u001b[0;32m      9\u001b[0m \u001b[38;5;28;01mwith\u001b[39;00m sr\u001b[38;5;241m.\u001b[39mMicrophone() \u001b[38;5;28;01mas\u001b[39;00m source:\n\u001b[0;32m     10\u001b[0m     \u001b[38;5;28mprint\u001b[39m(\u001b[38;5;124m\"\u001b[39m\u001b[38;5;124mSpeak something...\u001b[39m\u001b[38;5;124m\"\u001b[39m)\n\u001b[1;32m---> 11\u001b[0m     audio \u001b[38;5;241m=\u001b[39m \u001b[43mr\u001b[49m\u001b[38;5;241;43m.\u001b[39;49m\u001b[43mlisten\u001b[49m\u001b[43m(\u001b[49m\u001b[43msource\u001b[49m\u001b[43m)\u001b[49m\n\u001b[0;32m     12\u001b[0m \u001b[38;5;28;01mtry\u001b[39;00m:\n\u001b[0;32m     13\u001b[0m     query \u001b[38;5;241m=\u001b[39m r\u001b[38;5;241m.\u001b[39mrecognize_google(audio)\n",
      "File \u001b[1;32m~\\AppData\\Local\\Programs\\Python\\Python310\\lib\\site-packages\\speech_recognition\\__init__.py:523\u001b[0m, in \u001b[0;36mRecognizer.listen\u001b[1;34m(self, source, timeout, phrase_time_limit, snowboy_configuration)\u001b[0m\n\u001b[0;32m    520\u001b[0m \u001b[38;5;28;01mif\u001b[39;00m phrase_time_limit \u001b[38;5;129;01mand\u001b[39;00m elapsed_time \u001b[38;5;241m-\u001b[39m phrase_start_time \u001b[38;5;241m>\u001b[39m phrase_time_limit:\n\u001b[0;32m    521\u001b[0m     \u001b[38;5;28;01mbreak\u001b[39;00m\n\u001b[1;32m--> 523\u001b[0m buffer \u001b[38;5;241m=\u001b[39m \u001b[43msource\u001b[49m\u001b[38;5;241;43m.\u001b[39;49m\u001b[43mstream\u001b[49m\u001b[38;5;241;43m.\u001b[39;49m\u001b[43mread\u001b[49m\u001b[43m(\u001b[49m\u001b[43msource\u001b[49m\u001b[38;5;241;43m.\u001b[39;49m\u001b[43mCHUNK\u001b[49m\u001b[43m)\u001b[49m\n\u001b[0;32m    524\u001b[0m \u001b[38;5;28;01mif\u001b[39;00m \u001b[38;5;28mlen\u001b[39m(buffer) \u001b[38;5;241m==\u001b[39m \u001b[38;5;241m0\u001b[39m: \u001b[38;5;28;01mbreak\u001b[39;00m  \u001b[38;5;66;03m# reached end of the stream\u001b[39;00m\n\u001b[0;32m    525\u001b[0m frames\u001b[38;5;241m.\u001b[39mappend(buffer)\n",
      "File \u001b[1;32m~\\AppData\\Local\\Programs\\Python\\Python310\\lib\\site-packages\\speech_recognition\\__init__.py:199\u001b[0m, in \u001b[0;36mMicrophone.MicrophoneStream.read\u001b[1;34m(self, size)\u001b[0m\n\u001b[0;32m    198\u001b[0m \u001b[38;5;28;01mdef\u001b[39;00m \u001b[38;5;21mread\u001b[39m(\u001b[38;5;28mself\u001b[39m, size):\n\u001b[1;32m--> 199\u001b[0m     \u001b[38;5;28;01mreturn\u001b[39;00m \u001b[38;5;28;43mself\u001b[39;49m\u001b[38;5;241;43m.\u001b[39;49m\u001b[43mpyaudio_stream\u001b[49m\u001b[38;5;241;43m.\u001b[39;49m\u001b[43mread\u001b[49m\u001b[43m(\u001b[49m\u001b[43msize\u001b[49m\u001b[43m,\u001b[49m\u001b[43m \u001b[49m\u001b[43mexception_on_overflow\u001b[49m\u001b[38;5;241;43m=\u001b[39;49m\u001b[38;5;28;43;01mFalse\u001b[39;49;00m\u001b[43m)\u001b[49m\n",
      "File \u001b[1;32m~\\AppData\\Local\\Programs\\Python\\Python310\\lib\\site-packages\\pyaudio\\__init__.py:570\u001b[0m, in \u001b[0;36mPyAudio.Stream.read\u001b[1;34m(self, num_frames, exception_on_overflow)\u001b[0m\n\u001b[0;32m    567\u001b[0m \u001b[38;5;28;01mif\u001b[39;00m \u001b[38;5;129;01mnot\u001b[39;00m \u001b[38;5;28mself\u001b[39m\u001b[38;5;241m.\u001b[39m_is_input:\n\u001b[0;32m    568\u001b[0m     \u001b[38;5;28;01mraise\u001b[39;00m \u001b[38;5;167;01mIOError\u001b[39;00m(\u001b[38;5;124m\"\u001b[39m\u001b[38;5;124mNot input stream\u001b[39m\u001b[38;5;124m\"\u001b[39m,\n\u001b[0;32m    569\u001b[0m                   paCanNotReadFromAnOutputOnlyStream)\n\u001b[1;32m--> 570\u001b[0m \u001b[38;5;28;01mreturn\u001b[39;00m \u001b[43mpa\u001b[49m\u001b[38;5;241;43m.\u001b[39;49m\u001b[43mread_stream\u001b[49m\u001b[43m(\u001b[49m\u001b[38;5;28;43mself\u001b[39;49m\u001b[38;5;241;43m.\u001b[39;49m\u001b[43m_stream\u001b[49m\u001b[43m,\u001b[49m\u001b[43m \u001b[49m\u001b[43mnum_frames\u001b[49m\u001b[43m,\u001b[49m\n\u001b[0;32m    571\u001b[0m \u001b[43m                      \u001b[49m\u001b[43mexception_on_overflow\u001b[49m\u001b[43m)\u001b[49m\n",
      "\u001b[1;31mKeyboardInterrupt\u001b[0m: "
     ]
    }
   ],
   "source": [
    "import os\n",
    "import speech_recognition as sr\n",
    "from gtts import gTTS\n",
    "import tkinter as tk\n",
    "from tkinter import messagebox\n",
    "\n",
    "r = sr.Recognizer()\n",
    "def transcribe_speech():\n",
    "    with sr.Microphone() as source:\n",
    "        print(\"Speak something...\")\n",
    "        audio = r.listen(source)\n",
    "    try:\n",
    "        query = r.recognize_google(audio)\n",
    "        print(\"You said:\", query)\n",
    "        return query\n",
    "    except sr.UnknownValueError:\n",
    "        print(\"Sorry, I couldn't understand.\")\n",
    "    except sr.RequestError as e:\n",
    "        print(\"Request error: \", e)\n",
    "\n",
    "def speak(text):\n",
    "    tts = gTTS(text=text, lang='en')\n",
    "    tts.save('output.mp3')\n",
    "    os.system('start output.mp3')\n",
    "def search_files_and_directories(query):\n",
    "    results = []\n",
    "    for root, dirs, files in os.walk('/'):  \n",
    "        for file in files:\n",
    "            if query.lower() in file.lower():\n",
    "                results.append(os.path.join(root, file))\n",
    "        for dir in dirs:\n",
    "            if query.lower() in dir.lower():\n",
    "                results.append(os.path.join(root, dir))\n",
    "    return results\n",
    "\n",
    "def open_path(path):\n",
    "    try:\n",
    "        if os.path.isfile(path):\n",
    "            os.startfile(path)\n",
    "        elif os.path.isdir(path):\n",
    "            os.system(f'explorer \"{path}\"')\n",
    "    except OSError:\n",
    "        messagebox.showerror(\"Error\", \"Failed to open the file or directory.\")\n",
    "\n",
    "window = tk.Tk()\n",
    "window.title(\"Search Results\")\n",
    "window.geometry(\"400x400\")\n",
    "listbox = tk.Listbox(window, selectmode=tk.SINGLE)\n",
    "listbox.pack(fill=tk.BOTH, expand=True)\n",
    "\n",
    "while True:\n",
    "    query = transcribe_speech()\n",
    "    if query:\n",
    "        search_results = search_files_and_directories(query)\n",
    "        if search_results:\n",
    "            listbox.delete(0, tk.END)  \n",
    "            for result in search_results:\n",
    "                listbox.insert(tk.END, result)\n",
    "            def on_double_click(event):\n",
    "                selection = listbox.curselection()\n",
    "                if selection:\n",
    "                    index = selection[0]\n",
    "                    path = listbox.get(index)\n",
    "                    open_path(path)\n",
    "            listbox.bind(\"<Double-Button-1>\", on_double_click)\n",
    "\n",
    "            window.deiconify()  \n",
    "            window.mainloop()\n",
    "        else:\n",
    "            speak(\"No files or directories found matching the search query.\")\n"
   ]
  },
  {
   "cell_type": "code",
   "execution_count": null,
   "id": "d3095e2f",
   "metadata": {},
   "outputs": [],
   "source": [
    "!pip install pyaudio\n"
   ]
  },
  {
   "cell_type": "code",
   "execution_count": null,
   "id": "6b384ee7",
   "metadata": {},
   "outputs": [],
   "source": [
    "!pip install --upgrade pip"
   ]
  },
  {
   "cell_type": "code",
   "execution_count": null,
   "id": "0f2ce630",
   "metadata": {},
   "outputs": [
    {
     "name": "stdout",
     "output_type": "stream",
     "text": [
      "Speak something...\n",
      "You said: oh\n",
      "Speak something...\n"
     ]
    }
   ],
   "source": [
    "import os\n",
    "from pocketsphinx import LiveSpeech\n",
    "from gtts import gTTS\n",
    "import tkinter as tk\n",
    "from tkinter import messagebox\n",
    "\n",
    "def transcribe_speech():\n",
    "    speech = LiveSpeech()\n",
    "    print(\"Speak something...\")\n",
    "    for phrase in speech:\n",
    "        query = str(phrase)\n",
    "        print(\"You said:\", query)\n",
    "        return query\n",
    "def speak(text):\n",
    "    tts = gTTS(text=text, lang='en')\n",
    "    tts.save('output.mp3')\n",
    "    os.system('start output.mp3')\n",
    "def search_files_and_directories(query):\n",
    "    results = []\n",
    "    for root, dirs, files in os.walk('/'):  \n",
    "        for file in files:\n",
    "            if query.lower() in file.lower():\n",
    "                results.append(os.path.join(root, file))\n",
    "        for dir in dirs:\n",
    "            if query.lower() in dir.lower():\n",
    "                results.append(os.path.join(root, dir))\n",
    "    return results\n",
    "\n",
    "def open_path(path):\n",
    "    try:\n",
    "        if os.path.isfile(path):\n",
    "            os.startfile(path)\n",
    "        elif os.path.isdir(path):\n",
    "            os.system(f'explorer \"{path}\"')\n",
    "    except OSError:\n",
    "        messagebox.showerror(\"Error\", \"Failed to open the file or directory.\")\n",
    "\n",
    "window = tk.Tk()\n",
    "window.title(\"Search Results\")\n",
    "window.geometry(\"400x400\")\n",
    "listbox = tk.Listbox(window, selectmode=tk.SINGLE)\n",
    "listbox.pack(fill=tk.BOTH, expand=True)\n",
    "\n",
    "while True:\n",
    "    query = transcribe_speech()\n",
    "    if query:\n",
    "        search_results = search_files_and_directories(query)\n",
    "        if search_results:\n",
    "            listbox.delete(0, tk.END)  \n",
    "            for result in search_results:\n",
    "                listbox.insert(tk.END, result)\n",
    "            def on_double_click(event):\n",
    "                selection = listbox.curselection()\n",
    "                if selection:\n",
    "                    index = selection[0]\n",
    "                    path = listbox.get(index)\n",
    "                    open_path(path)\n",
    "            listbox.bind(\"<Double-Button-1>\", on_double_click)\n",
    "\n",
    "            window.deiconify()  \n",
    "            window.mainloop()\n",
    "        else:\n",
    "            speak(\"No files or directories found matching the search query.\")"
   ]
  },
  {
   "cell_type": "code",
   "execution_count": 31,
   "id": "a41521eb",
   "metadata": {},
   "outputs": [
    {
     "name": "stdout",
     "output_type": "stream",
     "text": [
      "Requirement already satisfied: pocketsphinx in c:\\users\\shiva\\desktop\\isro\\new_env\\myenv\\lib\\site-packages (5.0.1)\n",
      "Requirement already satisfied: sounddevice in c:\\users\\shiva\\desktop\\isro\\new_env\\myenv\\lib\\site-packages (from pocketsphinx) (0.4.6)\n",
      "Requirement already satisfied: CFFI>=1.0 in c:\\users\\shiva\\desktop\\isro\\new_env\\myenv\\lib\\site-packages (from sounddevice->pocketsphinx) (1.15.1)\n",
      "Requirement already satisfied: pycparser in c:\\users\\shiva\\desktop\\isro\\new_env\\myenv\\lib\\site-packages (from CFFI>=1.0->sounddevice->pocketsphinx) (2.21)\n"
     ]
    }
   ],
   "source": [
    "!pip install pocketsphinx"
   ]
  },
  {
   "cell_type": "code",
   "execution_count": null,
   "id": "48ac2479",
   "metadata": {},
   "outputs": [],
   "source": []
  }
 ],
 "metadata": {
  "kernelspec": {
   "display_name": "Python 3 (ipykernel)",
   "language": "python",
   "name": "python3"
  },
  "language_info": {
   "codemirror_mode": {
    "name": "ipython",
    "version": 3
   },
   "file_extension": ".py",
   "mimetype": "text/x-python",
   "name": "python",
   "nbconvert_exporter": "python",
   "pygments_lexer": "ipython3",
   "version": "3.10.4"
  }
 },
 "nbformat": 4,
 "nbformat_minor": 5
}
